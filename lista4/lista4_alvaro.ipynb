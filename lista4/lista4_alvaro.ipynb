{
 "cells": [
  {
   "cell_type": "markdown",
   "id": "51aed5f3-d2ae-42d3-9de7-650aee707911",
   "metadata": {},
   "source": [
    "## Lista 4\n",
    "Aluno: Álvaro de Carvalho Alves"
   ]
  },
  {
   "cell_type": "markdown",
   "id": "13758fca-4d46-4f43-b099-c976afe24143",
   "metadata": {},
   "source": [
    "# Questão 1\n",
    "\n",
    "O Objetivo desta questão é adquirir experiência com o algoritmo Erpectation Marimization (EM).\n",
    "Para isso você deve implementar a sua solução, que deverá estar bem explicada. (Não entre em\n",
    "pânico, a implementação é simples, e pode ser feita facilmente em Octave, R, Python, etc.)\n",
    "O dataset fornecido contém o resultado de uma votação de mil usuários em 5 tipos de filmes. (Ao\n",
    "invés de filmes poderíamos ter candidatos a uma eleição ou outras features. O significado das features\n",
    "depende do problema, obviamente. Cada um dos usuários vota que acordo com o seu interesse um um\n",
    "tipo de filme, por exemplo, filmes de Ação, Comédia, Romance, Suspense e Ficção Científica. Cada\n",
    "usuário dá uma nota de 1 a 4 para cada tipo de filme (ou feature) onde 1 significa \"não gosto\" e 4\n",
    "\"gosto muito\"\n",
    "O objetivo é verificar se é possível classificar os usuários usando 2 classes. Para isso você escolhe o\n",
    "modelo Naive Bayes pela simplicidade. Deverá ser usado o algoritmo EM para essa tarefa."
   ]
  },
  {
   "cell_type": "markdown",
   "id": "579acbe3-4b60-4b66-832c-1b36e6b91c71",
   "metadata": {},
   "source": [
    "#### Importação dos dados"
   ]
  },
  {
   "cell_type": "code",
   "execution_count": 1,
   "id": "878a2b07-36da-4aa7-b667-0f62bfd0fff8",
   "metadata": {},
   "outputs": [
    {
     "data": {
      "text/html": [
       "<div>\n",
       "<style scoped>\n",
       "    .dataframe tbody tr th:only-of-type {\n",
       "        vertical-align: middle;\n",
       "    }\n",
       "\n",
       "    .dataframe tbody tr th {\n",
       "        vertical-align: top;\n",
       "    }\n",
       "\n",
       "    .dataframe thead th {\n",
       "        text-align: right;\n",
       "    }\n",
       "</style>\n",
       "<table border=\"1\" class=\"dataframe\">\n",
       "  <thead>\n",
       "    <tr style=\"text-align: right;\">\n",
       "      <th></th>\n",
       "      <th>X1</th>\n",
       "      <th>X2</th>\n",
       "      <th>X3</th>\n",
       "      <th>X4</th>\n",
       "      <th>X5</th>\n",
       "    </tr>\n",
       "  </thead>\n",
       "  <tbody>\n",
       "    <tr>\n",
       "      <th>0</th>\n",
       "      <td>3</td>\n",
       "      <td>1</td>\n",
       "      <td>2</td>\n",
       "      <td>3</td>\n",
       "      <td>3</td>\n",
       "    </tr>\n",
       "    <tr>\n",
       "      <th>1</th>\n",
       "      <td>3</td>\n",
       "      <td>1</td>\n",
       "      <td>3</td>\n",
       "      <td>3</td>\n",
       "      <td>3</td>\n",
       "    </tr>\n",
       "    <tr>\n",
       "      <th>2</th>\n",
       "      <td>4</td>\n",
       "      <td>4</td>\n",
       "      <td>2</td>\n",
       "      <td>3</td>\n",
       "      <td>1</td>\n",
       "    </tr>\n",
       "    <tr>\n",
       "      <th>3</th>\n",
       "      <td>1</td>\n",
       "      <td>1</td>\n",
       "      <td>3</td>\n",
       "      <td>2</td>\n",
       "      <td>3</td>\n",
       "    </tr>\n",
       "    <tr>\n",
       "      <th>4</th>\n",
       "      <td>4</td>\n",
       "      <td>4</td>\n",
       "      <td>3</td>\n",
       "      <td>2</td>\n",
       "      <td>1</td>\n",
       "    </tr>\n",
       "    <tr>\n",
       "      <th>5</th>\n",
       "      <td>1</td>\n",
       "      <td>2</td>\n",
       "      <td>4</td>\n",
       "      <td>4</td>\n",
       "      <td>4</td>\n",
       "    </tr>\n",
       "    <tr>\n",
       "      <th>6</th>\n",
       "      <td>1</td>\n",
       "      <td>1</td>\n",
       "      <td>1</td>\n",
       "      <td>4</td>\n",
       "      <td>4</td>\n",
       "    </tr>\n",
       "  </tbody>\n",
       "</table>\n",
       "</div>"
      ],
      "text/plain": [
       "   X1  X2  X3  X4  X5\n",
       "0   3   1   2   3   3\n",
       "1   3   1   3   3   3\n",
       "2   4   4   2   3   1\n",
       "3   1   1   3   2   3\n",
       "4   4   4   3   2   1\n",
       "5   1   2   4   4   4\n",
       "6   1   1   1   4   4"
      ]
     },
     "execution_count": 1,
     "metadata": {},
     "output_type": "execute_result"
    }
   ],
   "source": [
    "import pandas as pd\n",
    "import numpy as np\n",
    "\n",
    "features = ['X1', 'X2', 'X3', 'X4', 'X5']\n",
    "users = pd.read_csv('lista4-data_scores.csv', \n",
    "                       comment='#', \n",
    "                       names=features, \n",
    "                       sep=' ').reset_index(drop=True)\n",
    "n_features = 5\n",
    "n_samples = 1000\n",
    "\n",
    "users.head(7)"
   ]
  },
  {
   "cell_type": "code",
   "execution_count": 2,
   "id": "b7545044-d787-4e9d-9f4a-560a855f8d32",
   "metadata": {},
   "outputs": [
    {
     "data": {
      "text/html": [
       "<div>\n",
       "<style scoped>\n",
       "    .dataframe tbody tr th:only-of-type {\n",
       "        vertical-align: middle;\n",
       "    }\n",
       "\n",
       "    .dataframe tbody tr th {\n",
       "        vertical-align: top;\n",
       "    }\n",
       "\n",
       "    .dataframe thead th {\n",
       "        text-align: right;\n",
       "    }\n",
       "</style>\n",
       "<table border=\"1\" class=\"dataframe\">\n",
       "  <thead>\n",
       "    <tr style=\"text-align: right;\">\n",
       "      <th></th>\n",
       "      <th>X1</th>\n",
       "      <th>X2</th>\n",
       "      <th>X3</th>\n",
       "      <th>X4</th>\n",
       "      <th>X5</th>\n",
       "    </tr>\n",
       "  </thead>\n",
       "  <tbody>\n",
       "    <tr>\n",
       "      <th>1</th>\n",
       "      <td>0.292</td>\n",
       "      <td>0.304</td>\n",
       "      <td>0.283</td>\n",
       "      <td>0.396</td>\n",
       "      <td>0.419</td>\n",
       "    </tr>\n",
       "    <tr>\n",
       "      <th>2</th>\n",
       "      <td>0.138</td>\n",
       "      <td>0.127</td>\n",
       "      <td>0.331</td>\n",
       "      <td>0.167</td>\n",
       "      <td>0.153</td>\n",
       "    </tr>\n",
       "    <tr>\n",
       "      <th>3</th>\n",
       "      <td>0.234</td>\n",
       "      <td>0.238</td>\n",
       "      <td>0.192</td>\n",
       "      <td>0.177</td>\n",
       "      <td>0.165</td>\n",
       "    </tr>\n",
       "    <tr>\n",
       "      <th>4</th>\n",
       "      <td>0.336</td>\n",
       "      <td>0.331</td>\n",
       "      <td>0.194</td>\n",
       "      <td>0.260</td>\n",
       "      <td>0.263</td>\n",
       "    </tr>\n",
       "  </tbody>\n",
       "</table>\n",
       "</div>"
      ],
      "text/plain": [
       "      X1     X2     X3     X4     X5\n",
       "1  0.292  0.304  0.283  0.396  0.419\n",
       "2  0.138  0.127  0.331  0.167  0.153\n",
       "3  0.234  0.238  0.192  0.177  0.165\n",
       "4  0.336  0.331  0.194  0.260  0.263"
      ]
     },
     "execution_count": 2,
     "metadata": {},
     "output_type": "execute_result"
    }
   ],
   "source": [
    "# ocorrências de cada valor por feature\n",
    "pd.DataFrame({\n",
    "    'X1': users['X1'].value_counts(normalize=True),\n",
    "    'X2': users['X2'].value_counts(normalize=True),\n",
    "    'X3': users['X3'].value_counts(normalize=True),\n",
    "    'X4': users['X4'].value_counts(normalize=True),\n",
    "    'X5': users['X5'].value_counts(normalize=True)\n",
    "})"
   ]
  },
  {
   "cell_type": "markdown",
   "id": "a2f06c85-15cd-4c23-af4c-faaeba0bfab1",
   "metadata": {},
   "source": [
    "## a) Quantos parâmetros deverão ser estimados para o modelo Naive Bayes a ser construído?\n"
   ]
  },
  {
   "cell_type": "markdown",
   "id": "4dfe402c-b27c-4f32-bbf7-066012179a34",
   "metadata": {},
   "source": [
    "O objetivo do Naive Bayes é estimar a posterior:\n",
    "\n",
    "$$\n",
    "P\\left(C=d \\mid x_1, x_2, x_3, x_4, x_5\\right)=\\frac{P\\left(x_1, x_2, x_3, x_4, x_5 \\mid C=d\\right) P(C=d)}{P\\left(x_1, x_2, x_3, x_4, x_5\\right)}\n",
    "$$\n",
    "\n",
    "\n",
    "Sejam $C$, $d_j$, $X_{i}$ e $x_{ij}$ a label para a classe de uma amostra, o identificador da classe da amostra j, a feature i e o valor da feature i da amostra j, respectivamente. Vamos condensar a notação usando:\n",
    "\n",
    "$$\n",
    "P\\left(C = d_j\\right) = P\\left(C\\right)\n",
    "$$\n",
    "$$\n",
    "P\\left(X_{1}=x_{1j}, \\cdots, X_{5}=x_{5j}\\right) = P\\left(\\vec{x}\\right)\n",
    "$$\n",
    "$$\n",
    "P\\left(X_{1}=x_{1j}, \\cdots, X_{5}=x_{5j} \\mid C = d_j \\right) = P\\left(\\vec{x} \\mid C\\right)\n",
    "$$\n",
    "$$\n",
    "P\\left(C = d_j \\mid X_{1}=x_{1j}, \\cdots, X_{5}=x_{5j} \\right) = P\\left(C \\mid \\vec{x}\\right)\n",
    "$$\n",
    "$$\n",
    "P\\left(X_{i}=x_{ij} \\mid C = d_j  \\right) = P\\left(X_{i}\\mid C\\right )\n",
    "$$\n",
    "\n",
    "Logo, a posterior fica:\n",
    "\n",
    "$$\n",
    "P\\left(C \\mid \\vec{x}\\right) = \\frac{P\\left(\\vec{x} \\mid C\\right) \\cdot P\\left(C\\right)}{P\\left(\\vec{x}\\right)}\n",
    "$$\n",
    "\n",
    "Neste caso, temos 5 features $X_i$, que podem assumir 4 valores $x_{ij} \\in \\{1,2,3,4\\}$, e 2 classes $d_j \\in \\{1,2\\}$. Usando a premissa do Naive Bayes\n",
    "de que as features são independentes condicionadas pela classe, a posterior será:\n",
    "\n",
    "\n",
    "$$\n",
    "P\\left(C \\mid \\vec{x}\\right) = \\frac{\\prod_{i=1}^5 P\\left(X_{i} \\mid C\\right) \\cdot P\\left(C\\right)}\n",
    "{\\prod_{i=1}^5 P\\left(X_{i} \\mid C = 1\\right) P\\left(C = 1\\right) + \\prod_{i=1}^5 P\\left(X_{i} \\mid C = 2\\right) P\\left(C = 2\\right)}\n",
    "$$\n",
    "\n",
    "Portanto, para calcular o número de parâmetros, precisamos obter a \n",
    "probabilidade de cada valor (4 possibilidades) em cada feature \n",
    "(5 possibilidades) condicionada por cada classe (2 possibilidades). Mas como a probabilidade em cada feature, condicionada por classe, tem de somar um, só precisamos saber 3 das 4 probabilidades e a quarta é obtida automaticamente. Logo, temos 3x5x2 = 30 parâmetros.\n",
    "\n",
    "Além disso precisamos da probabilidade de cada classe. Como só temos duas\n",
    "classes: P(C=2) = 1 - P(C=1), então temos um parâmetro adicional. **Portanto, no total, teremos 31 parâmetros a serem estimados.**\n",
    "\n",
    "\n"
   ]
  },
  {
   "cell_type": "markdown",
   "id": "f3a4ff71-ea7b-401f-9740-3f19da787c58",
   "metadata": {},
   "source": [
    "## b) Explique as equações usadas para resolver o problema.\n"
   ]
  },
  {
   "cell_type": "markdown",
   "id": "c39d8ccd-d436-4dfa-816d-9ca70a7994fb",
   "metadata": {},
   "source": [
    "Para treinar o modelo, precisamos achar os parâmetros que maximizem a\n",
    "likelihood, usando o algoritmo EM.\n",
    "\n",
    "<!-- Inicialização:\n",
    "Podemos inicializar cada parâmetro com um valor arbitrário. Iniciarei todos\n",
    "com 0.5.\n",
    "\n",
    "$$\n",
    "P\\left(C=1 \\right)^{(0)} = 0,5\n",
    "$$\n",
    "$$\n",
    "P\\left(C=2 \\right)^{(0)} = 1 - P\\left(C=1 \\right)^{(0)} = 0,5\n",
    "$$\n",
    "$$\n",
    "P\\left(X_{i} = x_q\\mid C = 1 \\right)^{(0)} = \\frac{1}{4}\n",
    "$$\n",
    "$$\n",
    "P\\left(X_{i} = x_q\\mid C = 2 \\right)^{(0)} = \\frac{1}{4}\n",
    "$$\n",
    "\n",
    "Para todas as 5 features $X_i$ e seus possíveis valores $x_q$ entre 1 e 4.\n",
    "\n",
    "\n",
    "Agora, para começar as iterações do algoritmos, teremos os passos:\n",
    "\n",
    "**E step:** Calcular a posterior, baseada nos parâmetros que definimos, para cada amostra k\n",
    "$$\n",
    "P^{(0)}\\left(C = 1 \\mid \\vec{x}_k\\right) = \\frac{\\frac{1}{4}^5 \\cdot 0,5}{\\frac{1}{4}^5 \\cdot 0,5 + \\frac{1}{4}^5 \\cdot 0,5} = 0,5\n",
    "$$\n",
    "\n",
    "$$\n",
    "P^{(0)}\\left(C = 2 \\mid \\vec{x}_k\\right)= 1 -P^{(0)}\\left(C = 1 \\mid \\vec{x}_k\\right) = 0,5\n",
    "$$\n",
    "\n",
    "**M step:** Atualizar os parâmetros, baseados na posterior\n",
    "$$\n",
    " P^{(1)}\\left(C = 1\\right) =\n",
    " \\frac{1}{1000} \\cdot \\sum_{k=1}^{1000} P^{(0)}\\left(C = 1 \\mid \\vec{x}_k\\right) = 0,5\n",
    "$$\n",
    "$$\n",
    " P^{(1)}\\left(C = 2\\right) =\n",
    " \\frac{1}{1000} \\cdot \\sum_{k=1}^{1000} P^{(0)}\\left(C = 2 \\mid \\vec{x}_k\\right) = 0,5\n",
    "$$\n",
    "$$\n",
    "P^{(1)}\\left(X_{i}=x_{q} \\mid C = 1\\right) = \n",
    "\\frac{\\sum_{k=1}^{1000} P^{(0)}\\left(C = 1 \\mid X_{i}=x_{ik}\\right) \\cdot \\mathbb{1}\\left(X_{i}=x_{q}\\right)}\n",
    "{\\sum_{k=1}^{1000} P^{(0)}\\left(C=1 \\mid X_{i}=x_{ik}\\right)}\n",
    "$$\n",
    "\n",
    "$$\n",
    "P^{(1)}\\left(X_{i}=x_{q} \\mid C = 2\\right) =\n",
    "\\frac{\\sum_{k=1}^{1000} P^{(0)}\\left(C = 2 \\mid X_{i}=x_{ik}\\right) \\cdot \\mathbb{1}\\left(X_{i}=x_{q}\\right)}\n",
    "{\\sum_{k=1}^{1000} P^{(0)}\\left(C = 2 \\mid X_{i}=x_{ik}\\right)}\n",
    "$$\n",
    "\n",
    "Para todos $i \\in \\{1, 2, 3, 4, 5\\}$ e $x_q \\in \\{1,2,3,4\\}$ -->\n",
    "\n",
    "\n",
    "Para isso, iteraremos os passos E e M até a convergência:\n",
    "\n",
    "#### E step:\n",
    "\n",
    "Calcular a responsabilidade de cada classe sobre cada usuário $k$:\n",
    "$$\n",
    "P^{(t)}\\left(C = 1 \\mid \\vec{x}_k\\right) =\n",
    "\\frac{\\prod_{i=1}^5 P^{(t)}\\left(X_{i} = x_{ik} \\mid C = 1\\right) \\cdot P^{(t)}\\left(C = 1\\right)}\n",
    "{\\prod_{i=1}^5 P^{(t)}\\left(X_{i} = x_{ik} \\mid C = 1\\right) P^{(t)}\\left(C = 1\\right) + \\prod_{i=1}^5 P^{(t)}\\left(X_{i} = x_{ik} \\mid C = 2\\right) P^{(t)}\\left(C = 2\\right)}\n",
    "$$\n",
    "\n",
    "$$\n",
    "P^{(t)}\\left(C = 2 \\mid \\vec{x}_k\\right) = 1 - P^{(t)}\\left(C = 1 \\mid \\vec{x}_k\\right)\n",
    "$$\n",
    "\n",
    "#### M step:\n",
    "$$\n",
    " P^{(t+1)}\\left(C = 1 \\right) = \\frac{1}{1000} \\cdot \\sum_{k=1}^{1000} P^{(t)}\\left(C = 1 \\mid \\vec{x}_k\\right)\n",
    "$$\n",
    "\n",
    "$$\n",
    "P^{(t+1)}\\left(C = 2 \\right) = 1 - P^{(t+1)}\\left(C = 1 \\right)\n",
    "$$\n",
    "\n",
    "$$\n",
    "P^{(t+1)}\\left(X_{i}=x_{q} \\mid C = 1\\right) = \n",
    "\\frac{\\sum_{k=1}^{1000} P^{(t)}\\left(C = 1 \\mid \\vec{x}_k\\right) \\cdot \\mathbb{1}\\left(X_{i}=x_{q}\\right)}\n",
    "{\\sum_{k=1}^{1000} P^{(t)}\\left(C = 1 \\mid \\vec{x}_k\\right)}\n",
    "$$\n",
    "\n",
    "$$\n",
    "P^{(t+1)}\\left(X_{i}=x_{q} \\mid C = 2\\right) =\n",
    "\\frac{\\sum_{k=1}^{1000} P^{(t)}\\left(C = 2 \\mid \\vec{x}_k\\right) \\cdot \\mathbb{1}\\left(X_{i}=x_{q}\\right)}\n",
    "{\\sum_{k=1}^{1000} P^{(t)}\\left(C = 2 \\mid \\vec{x}_k\\right)}\n",
    "$$\n",
    "\n",
    "\n",
    "Para todos $i \\in \\{1, 2, 3, 4, 5\\}$ e $x_q \\in \\{1,2,3,4\\}$\n"
   ]
  },
  {
   "cell_type": "markdown",
   "id": "ac27e703-9085-491c-9fd1-b63d3d71333b",
   "metadata": {},
   "source": [
    "## c) Baseado no item anterior, explique a sua implementação, incluindo as suas escolhas para a inicialização do código.\n"
   ]
  },
  {
   "cell_type": "markdown",
   "id": "671667fb-7960-4951-8290-2eccca33c204",
   "metadata": {},
   "source": [
    "### Inicialização dos parâmetros:\n",
    "\n",
    "Para inicializar as priors\n",
    "$$\n",
    "P^{(0)}\\left(C=1 \\right)\n",
    "$$\n",
    "$$\n",
    "P^{(0)}\\left(C=2 \\right) = 1 - P^{(0)}\\left(C=1 \\right)\n",
    "$$\n",
    "\n",
    "Farei ``prior_class_1 = 0.5`` e ``prior_class_2 = 1 - prior_class_1``."
   ]
  },
  {
   "cell_type": "code",
   "execution_count": 3,
   "id": "0756a1b5-9116-4bec-9211-44e2f1dc6fe6",
   "metadata": {},
   "outputs": [],
   "source": [
    "prior_class_1_ini = 0.5 \n",
    "prior_class_2_ini = 1 - prior_class_1_ini"
   ]
  },
  {
   "cell_type": "markdown",
   "id": "485baa50-14e7-4c69-8c04-378274334e4b",
   "metadata": {},
   "source": [
    "Já, para as equações as condicionais:\n",
    "$$\n",
    "P^{(0)}\\left(X_{i} = x_q\\mid C = 1 \\right)\n",
    "$$\n",
    "$$\n",
    "P^{(0)}\\left(X_{i} = x_q\\mid C = 2 \\right)\n",
    "$$\n",
    "\n",
    "Precisamos dessas probabilidades para cada $x_q \\in \\{1,2,3,4\\}$ e $i \\in \\{1,2,3,4,5\\}$.\n",
    "\n",
    "Para isso, usarei duas matrizes ``prob_x_given_class_1`` e ``prob_x_given_class_2``. Uma para cada classe. Onde cada coordenada $n, m$ representa a probabilidade de se obter o valor $n+1$ para a feature $m+1$.\n",
    "\n",
    "A inicialização será feita com a função ``np.random.dirichlet``, que retorna uma matriz 5x4 cujas linhas são distribuições de Dirichlet que somam um, logo farei a transposta para ficar com uma matriz 4x5, cujas colunas somam um. "
   ]
  },
  {
   "cell_type": "code",
   "execution_count": 4,
   "id": "217e3418-f893-4019-b0e6-74f874b09ec5",
   "metadata": {},
   "outputs": [
    {
     "data": {
      "text/plain": [
       "array([[0.65313679, 0.13866766, 0.61760424, 0.10344626, 0.16093404],\n",
       "       [0.08192364, 0.68405627, 0.00681957, 0.61808081, 0.09267141],\n",
       "       [0.08381178, 0.16885146, 0.2846907 , 0.17844074, 0.15615262],\n",
       "       [0.18112779, 0.00842462, 0.09088548, 0.10003219, 0.59024193]])"
      ]
     },
     "execution_count": 4,
     "metadata": {},
     "output_type": "execute_result"
    }
   ],
   "source": [
    "prob_x_given_class_1_ini = np.random.dirichlet(np.ones(4), size=5).T\n",
    "prob_x_given_class_2_ini = np.random.dirichlet(np.ones(4), size=5).T\n",
    "prob_x_given_class_1_ini"
   ]
  },
  {
   "cell_type": "markdown",
   "id": "e9dd6cef-278c-4c0c-a560-a43ae4c6cee3",
   "metadata": {},
   "source": [
    "### E step: Calcular a responsabilidade de cada classe sobre cada usuário $k$\n"
   ]
  },
  {
   "cell_type": "markdown",
   "id": "190c563b-881b-477c-85a0-b98a7e1e93e8",
   "metadata": {},
   "source": [
    "\n",
    "$$\n",
    "P^{(t)}\\left(C = 1 \\mid \\vec{x}_k\\right) =\n",
    "\\frac{\\prod_{i=1}^5 P^{(t)}\\left(X_{i} = x_{ik} \\mid C = 1\\right) \\cdot P^{(t)}\\left(C = 1\\right)}\n",
    "{\\prod_{i=1}^5 P^{(t)}\\left(X_{i} = x_{ik} \\mid C = 1\\right) P^{(t)}\\left(C = 1\\right) + \\prod_{i=1}^5 P^{(t)}\\left(X_{i} = x_{ik} \\mid C = 2\\right) P^{(t)}\\left(C = 2\\right)}\n",
    "$$\n",
    "\n",
    "$$\n",
    "P^{(t)}\\left(C = 2 \\mid \\vec{x}_k\\right) = 1 - P^{(t)}\\left(C = 1 \\mid \\vec{x}_k\\right)\n",
    "$$\n"
   ]
  },
  {
   "cell_type": "code",
   "execution_count": 5,
   "id": "ce867653-096f-431d-bb47-775b57617df0",
   "metadata": {},
   "outputs": [],
   "source": [
    "def evaluate_posteriors(users, prob_x_given_class_1, prior_class_1, prob_x_given_class_2, prior_class_2):\n",
    "    posterior_class_1 = np.zeros(n_samples)\n",
    "    \n",
    "    for k in range(n_samples):\n",
    "        prob_xk_1 = np.prod([prob_x_given_class_1[users.iloc[k,i]-1,i] for i in range(n_features)])\n",
    "        prob_xk_2 = np.prod([prob_x_given_class_2[users.iloc[k,i]-1,i] for i in range(n_features)])\n",
    "    \n",
    "        posterior_class_1[k] = prob_xk_1 * prior_class_1 / (prob_xk_1 * prior_class_1 + prob_xk_2 * prior_class_2)\n",
    "\n",
    "    return posterior_class_1, np.ones(n_samples) - posterior_class_1"
   ]
  },
  {
   "cell_type": "code",
   "execution_count": 6,
   "id": "f483f14f-a404-4b72-9a98-13829e335c80",
   "metadata": {},
   "outputs": [],
   "source": [
    "posterior_class_1_ini, posterior_class_2_ini = evaluate_posteriors(users, prob_x_given_class_1_ini, prior_class_1_ini, prob_x_given_class_2_ini, prior_class_2_ini)"
   ]
  },
  {
   "cell_type": "markdown",
   "id": "9d76a9fe-b176-4524-b82f-ffd9923937a5",
   "metadata": {},
   "source": [
    "### M step: Atualizar os parâmetros, baseados na posterior\n",
    "$$\n",
    " P^{(t+1)}\\left(C = 1 \\right) = \\frac{1}{1000} \\cdot \\sum_{k=1}^{1000} P^{(t)}\\left(C = 1 \\mid \\vec{x}_k\\right)\n",
    "$$\n",
    "\n",
    "$$\n",
    "P^{(t+1)}\\left(C = 2 \\right) = 1 - P^{(t+1)}\\left(C = 1 \\right)\n",
    "$$\n",
    "\n",
    "$$\n",
    "P^{(t+1)}\\left(X_{i}=x_{q} \\mid C = 1\\right) = \n",
    "\\frac{\\sum_{k=1}^{1000} P^{(t)}\\left(C = 1 \\mid \\vec{x}_k\\right) \\cdot \\mathbb{1}\\left(X_{i}=x_{q}\\right)}\n",
    "{\\sum_{k=1}^{1000} P^{(t)}\\left(C = 1 \\mid \\vec{x}_k\\right)}\n",
    "$$\n",
    "\n",
    "$$\n",
    "P^{(t+1)}\\left(X_{i}=x_{q} \\mid C = 2\\right) =\n",
    "\\frac{\\sum_{k=1}^{1000} P^{(t)}\\left(C = 2 \\mid \\vec{x}_k\\right) \\cdot \\mathbb{1}\\left(X_{i}=x_{q}\\right)}\n",
    "{\\sum_{k=1}^{1000} P^{(t)}\\left(C = 2 \\mid \\vec{x}_k\\right)}\n",
    "$$\n",
    "\n",
    "\n",
    "Para todos $i \\in \\{1, 2, 3, 4, 5\\}$ e $x_q \\in \\{1,2,3,4\\}$"
   ]
  },
  {
   "cell_type": "code",
   "execution_count": 7,
   "id": "7a02c247-d529-41db-8b21-c0b19e007e5c",
   "metadata": {},
   "outputs": [],
   "source": [
    "def evaluate_priors(posterior_class_1):\n",
    "    prior_class_1 = posterior_class_1.mean()\n",
    "    return prior_class_1, 1 - prior_class_1\n",
    "\n",
    "def evaluate_conditionals(users, posterior_class_1, posterior_class_2):\n",
    "    prob_x_given_class_1 = np.zeros((4,5))\n",
    "    prob_x_given_class_2 = np.zeros((4,5))\n",
    "    \n",
    "    for i in range(n_features):\n",
    "        for x_q in (1, 2, 3, 4):\n",
    "            weighted_count_posterior_class_1 = posterior_class_1 @ (users.iloc[:,i] == x_q)\n",
    "            weighted_count_posterior_class_2 = posterior_class_2 @ (users.iloc[:,i] == x_q)\n",
    "    \n",
    "            prob_x_given_class_1[x_q-1, i] = weighted_count_posterior_class_1 / sum(posterior_class_1)\n",
    "            prob_x_given_class_2[x_q-1, i] = weighted_count_posterior_class_2 / sum(posterior_class_2)\n",
    "\n",
    "    return prob_x_given_class_1, prob_x_given_class_2"
   ]
  },
  {
   "cell_type": "code",
   "execution_count": 8,
   "id": "ca5a0abc-36cf-4930-87f8-6dd287897e03",
   "metadata": {},
   "outputs": [
    {
     "data": {
      "text/plain": [
       "array([[0.53715466, 0.40176311, 0.45347581, 0.31523802, 0.36567024],\n",
       "       [0.1119427 , 0.20094186, 0.1691862 , 0.25110526, 0.08968754],\n",
       "       [0.19517722, 0.25030641, 0.21971422, 0.15773301, 0.17095828],\n",
       "       [0.15572542, 0.14698863, 0.15762377, 0.27592372, 0.37368394]])"
      ]
     },
     "execution_count": 8,
     "metadata": {},
     "output_type": "execute_result"
    }
   ],
   "source": [
    "prior_class_1_ini, prior_class_2_ini = evaluate_priors(posterior_class_1_ini)\n",
    "\n",
    "prob_x_given_class_1_ini, prob_x_given_class_2_ini = evaluate_conditionals(users, posterior_class_1_ini, posterior_class_2_ini)\n",
    "prob_x_given_class_1_ini"
   ]
  },
  {
   "cell_type": "code",
   "execution_count": 9,
   "id": "b1e50443-718f-453f-af73-1550329a8de6",
   "metadata": {},
   "outputs": [
    {
     "data": {
      "text/plain": [
       "array([[0.09430889, 0.22516447, 0.14552943, 0.46112593, 0.46200477],\n",
       "       [0.15901244, 0.06737377, 0.46148559, 0.09917807, 0.20405475],\n",
       "       [0.26530643, 0.22807619, 0.16965143, 0.19253678, 0.16019528],\n",
       "       [0.48137224, 0.47938556, 0.22333355, 0.24715921, 0.1737452 ]])"
      ]
     },
     "execution_count": 9,
     "metadata": {},
     "output_type": "execute_result"
    }
   ],
   "source": [
    "prob_x_given_class_2_ini"
   ]
  },
  {
   "cell_type": "markdown",
   "id": "53e6f245-113e-4b19-9a6a-088253ac4992",
   "metadata": {},
   "source": [
    "### Algoritmo EM: Vamos repetir esse processo até que convirja:"
   ]
  },
  {
   "cell_type": "code",
   "execution_count": 10,
   "id": "fe8f0114-5e20-4019-b27d-8b22f8e0ba6b",
   "metadata": {},
   "outputs": [],
   "source": [
    "tol = 1e-8 # tolerância mínima para a diferença entre as mudanças, usada no critério de parada\n",
    "\n",
    "# inicialização\n",
    "# previous (prev) and current (curr) parameters\n",
    "prior_class_1_prev = 0\n",
    "prior_class_2_prev = 1\n",
    "prior_class_1_curr = 0.5\n",
    "prior_class_2_curr = 1 - prior_class_1_curr\n",
    "\n",
    "prob_x_given_class_1_prev = np.zeros((4,5))\n",
    "prob_x_given_class_1_curr = np.random.dirichlet(np.ones(4), size=5).T\n",
    "\n",
    "prob_x_given_class_2_prev = np.zeros((4,5))\n",
    "prob_x_given_class_2_curr = np.random.dirichlet(np.ones(4), size=5).T\n",
    "\n",
    "parameters_prev = np.append(np.ravel([prob_x_given_class_1_prev, prob_x_given_class_2_prev]), prior_class_1_prev)\n",
    "parameters_curr = np.append(np.ravel([prob_x_given_class_1_curr, prob_x_given_class_2_curr]), prior_class_1_curr)\n",
    "\n",
    "cont = 0\n",
    "# losses = []\n",
    "probs = []\n",
    "\n",
    "# enquanto a diferença entre os parâmetros anteriores e os atuais for maior que a tolerância\n",
    "while np.linalg.norm(parameters_prev - parameters_curr) >= tol:\n",
    "    # losses.append(np.linalg.norm(parameters_prev - parameters_curr))\n",
    "    cont += 1\n",
    "\n",
    "    # atualiza os parâmetros anteriores\n",
    "    prior_class_1_prev = prior_class_1_curr\n",
    "    prior_class_2_prev = prior_class_2_curr\n",
    "    prob_x_given_class_1_prev = np.copy(prob_x_given_class_1_curr)\n",
    "    prob_x_given_class_2_prev = np.copy(prob_x_given_class_2_curr)\n",
    "    \n",
    "    # E step\n",
    "    posterior_class_1, posterior_class_2 = evaluate_posteriors(users,\n",
    "                                                               prob_x_given_class_1_prev,\n",
    "                                                               prior_class_1_prev,\n",
    "                                                               prob_x_given_class_2_prev,\n",
    "                                                               prior_class_2_prev)\n",
    "    \n",
    "    # M step\n",
    "    prior_class_1_curr, prior_class_2_curr = evaluate_priors(posterior_class_1)\n",
    "    prob_x_given_class_1_curr, prob_x_given_class_2_curr = evaluate_conditionals(users, posterior_class_1, posterior_class_2)\n",
    "\n",
    "    # atualização do vetor de parâmetros\n",
    "    parameters_prev = np.copy(parameters_curr)\n",
    "    parameters_curr = np.append(np.ravel([prob_x_given_class_1_curr, prob_x_given_class_2_curr]), prior_class_1_curr)\n",
    "\n",
    "prior_class_1 = prior_class_1_curr\n",
    "prior_class_2 = 1 - prior_class_1\n",
    "prob_x_given_class_1 = prob_x_given_class_1_curr\n",
    "prob_x_given_class_2 = prob_x_given_class_2_curr"
   ]
  },
  {
   "cell_type": "code",
   "execution_count": 11,
   "id": "58afea31-0d87-41f4-a5fb-dc57f6e91ede",
   "metadata": {},
   "outputs": [],
   "source": [
    "def predict_class(user):\n",
    "    prob_xk_1 = np.prod([prob_x_given_class_1[user.iloc[i]-1,i] for i in range(n_features)])\n",
    "    prob_xk_2 = np.prod([prob_x_given_class_2[user.iloc[i]-1,i] for i in range(n_features)])\n",
    "    \n",
    "    posterior_class_1 = prob_xk_1 * prior_class_1 / (prob_xk_1 * prior_class_1 + prob_xk_2 * (1-prior_class_1))\n",
    "    return np.argmax([posterior_class_1, 1 - posterior_class_1]) + 1"
   ]
  },
  {
   "cell_type": "markdown",
   "id": "65efd24c-093c-4b18-b87c-22aa5a673249",
   "metadata": {},
   "source": [
    "## d) Quantas iterações foram necessárias para resolver o problema? Qual o teste de parada utilizado?\n"
   ]
  },
  {
   "cell_type": "markdown",
   "id": "1bbfbbb5-9ed5-4843-ab32-893bdfd43c8a",
   "metadata": {},
   "source": [
    "O teste de parada foi que a variação dos parâmetros fosse pequena de uma iteração para a outra, essa sendo calculada pela norma da diferença dos parâmetros.\n",
    "\n",
    "Observação: como a inicialização foi aleatória, a quantidade de iterações variou muito. Chegando até 92 iterações.\n",
    "\n",
    "A quantidade de iterações necessárias foi:"
   ]
  },
  {
   "cell_type": "code",
   "execution_count": 12,
   "id": "bbf76f84-f5b9-48f1-8c67-aee62cba50e4",
   "metadata": {},
   "outputs": [
    {
     "name": "stdout",
     "output_type": "stream",
     "text": [
      "Iterações: 87\n"
     ]
    }
   ],
   "source": [
    "print(\"Iterações:\", cont)"
   ]
  },
  {
   "cell_type": "markdown",
   "id": "deb415cc-28f0-4ad0-9cb2-90403d7bb966",
   "metadata": {},
   "source": [
    "## e) Quais os valores dos parâmetros encontrados? Quantos usuários foram alocados a cada uma das duas classes?"
   ]
  },
  {
   "cell_type": "markdown",
   "id": "cb333772-45be-4afd-8f1a-0a497d6d8410",
   "metadata": {},
   "source": [
    "**Parâmetros**"
   ]
  },
  {
   "cell_type": "code",
   "execution_count": 13,
   "id": "1b0abfd0-ad3c-44d8-9380-d9c5efd16f96",
   "metadata": {},
   "outputs": [
    {
     "name": "stdout",
     "output_type": "stream",
     "text": [
      "Prior da classe 1:\n",
      " 0.5794694730835679\n",
      "\n",
      "Cada coluna se refere a uma feature, a linha é a probabilidade da feature obter tal valor, separadas por classe\n",
      "Probabilidades condicionais para classe 1:\n",
      " [[0.0901143  0.10669931 0.31603805 0.60386612 0.62013791]\n",
      " [0.09258883 0.08422001 0.31780643 0.19934956 0.19899847]\n",
      " [0.30772671 0.3188378  0.17436927 0.08837728 0.07256591]\n",
      " [0.50957015 0.49024289 0.19178625 0.10840704 0.10829771]]\n",
      "\n",
      "Probabilidades condicionais para classe 2:\n",
      " [[0.57018813 0.57587023 0.23747527 0.10957116 0.14184229]\n",
      " [0.20057426 0.18594863 0.34918006 0.12242396 0.08961647]\n",
      " [0.13240838 0.12660967 0.21629424 0.29911756 0.29236943]\n",
      " [0.09682924 0.11157147 0.19705043 0.46888732 0.47617181]]\n"
     ]
    }
   ],
   "source": [
    "print(\"Prior da classe 1:\\n\", prior_class_1)\n",
    "print(\"\\nCada coluna se refere a uma feature, a linha é a probabilidade da feature obter tal valor, separadas por classe\")\n",
    "print(\"Probabilidades condicionais para classe 1:\\n\", prob_x_given_class_1)\n",
    "print(\"\\nProbabilidades condicionais para classe 2:\\n\", prob_x_given_class_2)"
   ]
  },
  {
   "cell_type": "markdown",
   "id": "7aa08e48-caa9-46ed-b52d-e86e221c4d78",
   "metadata": {},
   "source": [
    "**Quantidade de usuários classificados em cada classe:**"
   ]
  },
  {
   "cell_type": "code",
   "execution_count": 14,
   "id": "0d2266ef-4d82-4183-9f0d-80cef2eff0a9",
   "metadata": {},
   "outputs": [
    {
     "data": {
      "text/plain": [
       "classe\n",
       "1    573\n",
       "2    427\n",
       "Name: count, dtype: int64"
      ]
     },
     "execution_count": 14,
     "metadata": {},
     "output_type": "execute_result"
    }
   ],
   "source": [
    "users['classe'] = users.apply(\n",
    "    predict_class,\n",
    "    axis='columns'\n",
    ")\n",
    "users['classe'].value_counts()"
   ]
  },
  {
   "cell_type": "code",
   "execution_count": 15,
   "id": "3804f8b0-64bf-4443-89d8-fae229c9bca3",
   "metadata": {},
   "outputs": [
    {
     "data": {
      "text/html": [
       "<div>\n",
       "<style scoped>\n",
       "    .dataframe tbody tr th:only-of-type {\n",
       "        vertical-align: middle;\n",
       "    }\n",
       "\n",
       "    .dataframe tbody tr th {\n",
       "        vertical-align: top;\n",
       "    }\n",
       "\n",
       "    .dataframe thead th {\n",
       "        text-align: right;\n",
       "    }\n",
       "</style>\n",
       "<table border=\"1\" class=\"dataframe\">\n",
       "  <thead>\n",
       "    <tr style=\"text-align: right;\">\n",
       "      <th></th>\n",
       "      <th>X1</th>\n",
       "      <th>X2</th>\n",
       "      <th>X3</th>\n",
       "      <th>X4</th>\n",
       "      <th>X5</th>\n",
       "      <th>classe</th>\n",
       "    </tr>\n",
       "  </thead>\n",
       "  <tbody>\n",
       "    <tr>\n",
       "      <th>0</th>\n",
       "      <td>3</td>\n",
       "      <td>1</td>\n",
       "      <td>2</td>\n",
       "      <td>3</td>\n",
       "      <td>3</td>\n",
       "      <td>2</td>\n",
       "    </tr>\n",
       "    <tr>\n",
       "      <th>1</th>\n",
       "      <td>3</td>\n",
       "      <td>1</td>\n",
       "      <td>3</td>\n",
       "      <td>3</td>\n",
       "      <td>3</td>\n",
       "      <td>2</td>\n",
       "    </tr>\n",
       "    <tr>\n",
       "      <th>2</th>\n",
       "      <td>4</td>\n",
       "      <td>4</td>\n",
       "      <td>2</td>\n",
       "      <td>3</td>\n",
       "      <td>1</td>\n",
       "      <td>1</td>\n",
       "    </tr>\n",
       "    <tr>\n",
       "      <th>3</th>\n",
       "      <td>1</td>\n",
       "      <td>1</td>\n",
       "      <td>3</td>\n",
       "      <td>2</td>\n",
       "      <td>3</td>\n",
       "      <td>2</td>\n",
       "    </tr>\n",
       "    <tr>\n",
       "      <th>4</th>\n",
       "      <td>4</td>\n",
       "      <td>4</td>\n",
       "      <td>3</td>\n",
       "      <td>2</td>\n",
       "      <td>1</td>\n",
       "      <td>1</td>\n",
       "    </tr>\n",
       "  </tbody>\n",
       "</table>\n",
       "</div>"
      ],
      "text/plain": [
       "   X1  X2  X3  X4  X5  classe\n",
       "0   3   1   2   3   3       2\n",
       "1   3   1   3   3   3       2\n",
       "2   4   4   2   3   1       1\n",
       "3   1   1   3   2   3       2\n",
       "4   4   4   3   2   1       1"
      ]
     },
     "execution_count": 15,
     "metadata": {},
     "output_type": "execute_result"
    }
   ],
   "source": [
    "users.head()"
   ]
  },
  {
   "cell_type": "markdown",
   "id": "bede65a6-4425-443f-a745-76d345919a68",
   "metadata": {},
   "source": [
    "## f) O resultado da clusterização fez algum sentido? Explique e justifique a sua resposta.\n"
   ]
  },
  {
   "cell_type": "markdown",
   "id": "0ec214ad-2630-43c3-a7aa-7e6d0890c4c5",
   "metadata": {},
   "source": [
    "Faz sentido. Se fizermos uma análise da distribuição das features pela classe, podemos ver que há uma diferença relevante entre as duas classes:"
   ]
  },
  {
   "cell_type": "code",
   "execution_count": 16,
   "id": "37288793-4bf9-438d-a335-243ffff30f9c",
   "metadata": {},
   "outputs": [
    {
     "data": {
      "image/png": "[encoded data removed]",
      "text/plain": [
       "<Figure size 600x600 with 1 Axes>"
      ]
     },
     "metadata": {},
     "output_type": "display_data"
    }
   ],
   "source": [
    "import numpy as np\n",
    "import matplotlib.pyplot as plt\n",
    "\n",
    "mean_values = users.groupby('classe').mean()\n",
    "\n",
    "# Gráfico de radar\n",
    "angles = np.linspace(0, 2 * np.pi, len(features), endpoint=False).tolist()\n",
    "angles += angles[:1]\n",
    "\n",
    "fig, ax = plt.subplots(figsize=(6, 6), subplot_kw=dict(polar=True))\n",
    "for i, classe in enumerate(mean_values.index):\n",
    "    values = mean_values.loc[classe].values.flatten().tolist()\n",
    "    values += values[:1]\n",
    "    ax.plot(angles, values, label=f'classe {classe}')\n",
    "    ax.fill(angles, values, alpha=0.1)\n",
    "\n",
    "ax.set_title('Perfil das Classes')\n",
    "ax.set_yticklabels([])\n",
    "ax.set_xticks(angles[:-1])\n",
    "ax.set_xticklabels(features)\n",
    "plt.legend()\n",
    "plt.show()"
   ]
  },
  {
   "cell_type": "markdown",
   "id": "c1832000-4cfc-48bc-b00a-bdaeed0ce16b",
   "metadata": {},
   "source": [
    "## g) Qual a probabilidade do i-ésimo usuário ser alocado ao cluster 1? Explique sua resposta deforma genérica e escolha um dos 1000 usuários para exemplificar.\n"
   ]
  },
  {
   "cell_type": "markdown",
   "id": "bf8f72d2-1eaa-42e7-ae93-da7222dfc30b",
   "metadata": {},
   "source": [
    "A probabilidade do i-ésimo usuário, representado pelas features $\\vec{x}_i = (x_{1i}, x_{2i}, x_{3i}, x_{4i}, x_{5i})$, ser alocado ao cluster 1 é dada pela posterior:\n",
    "\n",
    "$$\n",
    "P\\left(C = 1 \\mid \\vec{x}_i\\right) = \\frac{P\\left(\\vec{x}_i \\mid C\\right) \\cdot P\\left(C = 1\\right)}{P\\left(\\vec{x}_i\\right)}\n",
    "$$\n",
    "$$\n",
    "= P\\left(C = 1 \\mid \\vec{x}_i\\right) =\n",
    "\\frac{\\prod_{j=1}^5 P\\left(X_{j} = x_{ji} \\mid C = 1\\right) \\cdot P\\left(C = 1\\right)}\n",
    "{\\prod_{j=1}^5 P\\left(X_{j} = x_{ji} \\mid C = 1\\right) P\\left(C = 1\\right) + \\prod_{j=1}^5 P\\left(X_{j} = x_{ji} \\mid C = 2\\right) P\\left(C = 2\\right)}\n",
    "$$\n",
    "$$\n",
    "= P\\left(C = 1 \\mid \\vec{x}_i\\right) =\n",
    "\\frac{ 0.42 \\cdot \\prod_{j=1}^5 P\\left(X_{j} = x_{ji} \\mid C = 1\\right)}\n",
    "{ 0.42 \\cdot \\prod_{j=1}^5 P\\left(X_{j} = x_{ji} \\mid C = 1\\right)+  0.58 \\cdot \\prod_{j=1}^5 P\\left(X_{j} = x_{ji} \\mid C = 2\\right)}\n",
    "$$\n",
    "\n",
    "Por exemplo, para o primeiro usuário do dataset, com os dados $\\vec{x}_1 = (3, 1, 2, 3, 3)$, implementado com índice 0, teremos a probabilidade:\n",
    "\n",
    "<!-- $$\n",
    "\\frac{ 0.42 \\cdot P\\left(X_{1} = 3 \\mid C = 1\\right) P\\left(X_{2} = 1 \\mid C = 1\\right) P\\left(X_{3} = 2 \\mid C = 1\\right) P\\left(X_{4} = 3 \\mid C = 1\\right) P\\left(X_{5} = 3 \\mid C = 1\\right)}\n",
    "{ 0.42 \\cdot  P\\left(X_{1} = 3 \\mid C = 1\\right) P\\left(X_{2} = 1 \\mid C = 1\\right) P\\left(X_{3} = 2 \\mid C = 1\\right) P\\left(X_{4} = 3 \\mid C = 1\\right) P\\left(X_{5} = 3 \\mid C = 1\\right) +  0.58 \\cdot P\\left(X_{1} = 3 \\mid C = 2\\right) P\\left(X_{2} = 1 \\mid C = 2\\right) P\\left(X_{3} = 2 \\mid C = 2\\right) P\\left(X_{4} = 3 \\mid C = 2\\right) P\\left(X_{5} = 3 \\mid C = 2\\right)}\n",
    "$$ -->"
   ]
  },
  {
   "cell_type": "code",
   "execution_count": 17,
   "id": "7cd3606c-1a42-4d1f-85b9-883544548b34",
   "metadata": {},
   "outputs": [
    {
     "data": {
      "text/plain": [
       "0.03809471238762736"
      ]
     },
     "execution_count": 17,
     "metadata": {},
     "output_type": "execute_result"
    }
   ],
   "source": [
    "prob_xk_1 = np.prod([prob_x_given_class_1[users.iloc[0,i]-1,i] for i in range(n_features)])\n",
    "prob_xk_2 = np.prod([prob_x_given_class_2[users.iloc[0,i]-1,i] for i in range(n_features)])\n",
    "    \n",
    "posterior_class_1 = prob_xk_1 * prior_class_1 / (prob_xk_1 * prior_class_1 + prob_xk_2 * prior_class_2)\n",
    "posterior_class_1"
   ]
  },
  {
   "cell_type": "markdown",
   "id": "74163aa0-d35a-4a94-9870-45e0652ee292",
   "metadata": {},
   "source": [
    "## h) Um usuário que votou 1,2,3,4,2 deveria ser alocado ao cluster 1 ou 2? Justifique.\n"
   ]
  },
  {
   "cell_type": "markdown",
   "id": "87af9adc-e921-4165-9b4f-ecdd1949758f",
   "metadata": {},
   "source": [
    "A função ``predict_class`` retorna a classe com maior posterior. A partir dela, temos que o usuário vai para a classe 2."
   ]
  },
  {
   "cell_type": "code",
   "execution_count": 18,
   "id": "fd02c240-ec75-4311-969c-4d25e5524345",
   "metadata": {},
   "outputs": [
    {
     "data": {
      "text/plain": [
       "2"
      ]
     },
     "execution_count": 18,
     "metadata": {},
     "output_type": "execute_result"
    }
   ],
   "source": [
    "predict_class(pd.Series([1,2,3,4,2]))"
   ]
  },
  {
   "cell_type": "markdown",
   "id": "e84756a5-dd72-4a2f-88f1-f73435f7a9e5",
   "metadata": {},
   "source": [
    "## i) Como você classificaria um usuário que votou 3,2,?,2,3? Isto é, o usuário não votou na feature número 3 (por exemplo, não deu seu voto para filmes de Romance). Explique.\n"
   ]
  },
  {
   "cell_type": "markdown",
   "id": "884324e7-b9f8-4f76-9ec9-fdb741141efb",
   "metadata": {},
   "source": [
    "Como as features são independentes entre si por suposição, não precisamos imputá-lo com base nas outras features. Para imputá-lo podemos apenas usar o valor mais frequente da feature X3, que é o 2, pela tabela de frequências abaixo:"
   ]
  },
  {
   "cell_type": "code",
   "execution_count": 19,
   "id": "c9357f42-c227-4d50-9fd9-e609798974d5",
   "metadata": {},
   "outputs": [
    {
     "data": {
      "text/html": [
       "<div>\n",
       "<style scoped>\n",
       "    .dataframe tbody tr th:only-of-type {\n",
       "        vertical-align: middle;\n",
       "    }\n",
       "\n",
       "    .dataframe tbody tr th {\n",
       "        vertical-align: top;\n",
       "    }\n",
       "\n",
       "    .dataframe thead th {\n",
       "        text-align: right;\n",
       "    }\n",
       "</style>\n",
       "<table border=\"1\" class=\"dataframe\">\n",
       "  <thead>\n",
       "    <tr style=\"text-align: right;\">\n",
       "      <th></th>\n",
       "      <th>X1</th>\n",
       "      <th>X2</th>\n",
       "      <th>X3</th>\n",
       "      <th>X4</th>\n",
       "      <th>X5</th>\n",
       "    </tr>\n",
       "  </thead>\n",
       "  <tbody>\n",
       "    <tr>\n",
       "      <th>1</th>\n",
       "      <td>292</td>\n",
       "      <td>304</td>\n",
       "      <td>283</td>\n",
       "      <td>396</td>\n",
       "      <td>419</td>\n",
       "    </tr>\n",
       "    <tr>\n",
       "      <th>2</th>\n",
       "      <td>138</td>\n",
       "      <td>127</td>\n",
       "      <td>331</td>\n",
       "      <td>167</td>\n",
       "      <td>153</td>\n",
       "    </tr>\n",
       "    <tr>\n",
       "      <th>3</th>\n",
       "      <td>234</td>\n",
       "      <td>238</td>\n",
       "      <td>192</td>\n",
       "      <td>177</td>\n",
       "      <td>165</td>\n",
       "    </tr>\n",
       "    <tr>\n",
       "      <th>4</th>\n",
       "      <td>336</td>\n",
       "      <td>331</td>\n",
       "      <td>194</td>\n",
       "      <td>260</td>\n",
       "      <td>263</td>\n",
       "    </tr>\n",
       "  </tbody>\n",
       "</table>\n",
       "</div>"
      ],
      "text/plain": [
       "    X1   X2   X3   X4   X5\n",
       "1  292  304  283  396  419\n",
       "2  138  127  331  167  153\n",
       "3  234  238  192  177  165\n",
       "4  336  331  194  260  263"
      ]
     },
     "execution_count": 19,
     "metadata": {},
     "output_type": "execute_result"
    }
   ],
   "source": [
    "# ocorrências de cada valor por feature\n",
    "pd.DataFrame({\n",
    "    'X1': users['X1'].value_counts(),\n",
    "    'X2': users['X2'].value_counts(),\n",
    "    'X3': users['X3'].value_counts(),\n",
    "    'X4': users['X4'].value_counts(),\n",
    "    'X5': users['X5'].value_counts()\n",
    "})"
   ]
  },
  {
   "cell_type": "markdown",
   "id": "305a36f8-a900-4068-b5a3-f06816c448ff",
   "metadata": {},
   "source": [
    "Portanto, a classe desse usuário é:"
   ]
  },
  {
   "cell_type": "code",
   "execution_count": 20,
   "id": "4119121e-9cd4-41fe-a0e3-0ad0d0b4732d",
   "metadata": {},
   "outputs": [
    {
     "data": {
      "text/plain": [
       "2"
      ]
     },
     "execution_count": 20,
     "metadata": {},
     "output_type": "execute_result"
    }
   ],
   "source": [
    "user_questao_1i = pd.Series([3,2,2,2,3])\n",
    "predict_class(user_questao_1i)"
   ]
  },
  {
   "cell_type": "markdown",
   "id": "319fa536-2240-4819-a2b5-5a365c50988b",
   "metadata": {},
   "source": [
    "# Questão 2 Markov Chains\n",
    "Um robô pode se mover pelos quadrados da figura abaixo. A cada unidade de tempo (minuto, por exemplo) o robô tenta se mover para um dos quadrados adjacentes ao que ocupa e escolhe uma dentre as possíveis ações: (a) mover para Norte: (b) mover para Sul: (c) mover para Leste: (d) mover para\n",
    "Oeste. O robô não consegue enxergar a sua volta, então escolhe aleatoriamente uma dentre as 4 ações possíveis para só então fazer um movimento. Caso o robô tenha escolhido se mover na direção de um dos quadrados em rosa (os com tijolinhos na Figura 1) ou para fora da ambiente, ele colide com a\n",
    "parede e permanece na mesma posição até a nova tentativa."
   ]
  },
  {
   "cell_type": "markdown",
   "id": "8c62b700-a1b7-4e44-8ece-cdad3ec376d6",
   "metadata": {},
   "source": [
    "## 1. Construa a cadeia de Markov que representa o movimento do robô pelo ambiente, e mostre a matriz de transição de estados do sistema. Para facilitar a correção, indique claramente quais os estados do sistema e exemplifique indicando as probabilidades de transição para um movimento.\n"
   ]
  },
  {
   "cell_type": "markdown",
   "id": "50fadac8-e071-4907-957f-1bf876a46d7a",
   "metadata": {
    "editable": true,
    "slideshow": {
     "slide_type": ""
    },
    "tags": []
   },
   "source": [
    "Para a modelagem do problema, usarei uma cadeia de markov com **12 estados**, um para cada coordenada acessível. O diagrama da cadeia pode ser visto abaixo. Em cada estado, estão indicados seu índice na matriz de transição e suas coordenadas no mapa.\n",
    "\n",
    "<!-- ![Markov chain](markov_chain.png \"Markov chain\") -->\n",
    "\n",
    "<img src=\"markov_chain.png\" alt=\"Markov chain\" style=\"height: 500px;\"/>"
   ]
  },
  {
   "cell_type": "markdown",
   "id": "0467af59-d058-4e4f-89e9-074abf054eab",
   "metadata": {},
   "source": [
    "A partir do diagrama, teremos a matriz de transição (os zeros foram substituidos por pontos para facilitar a visualização):\n",
    "\n",
    "$$\n",
    "P = \n",
    "\\frac{1}{4}\n",
    " \\begin{bmatrix}\n",
    " 2 & 1 & \\cdot & \\cdot & 1 & \\cdot & \\cdot & \\cdot & \\cdot & \\cdot & \\cdot & \\cdot \\\\\n",
    " 1 & 1 & 1 & \\cdot & \\cdot & 1 & \\cdot & \\cdot & \\cdot & \\cdot & \\cdot & \\cdot \\\\\n",
    " \\cdot & 1 & 3 & \\cdot & \\cdot & \\cdot & \\cdot & \\cdot & \\cdot & \\cdot & \\cdot & \\cdot \\\\\n",
    " \\cdot & \\cdot & \\cdot & 2 & 1 & \\cdot & 1 & \\cdot & \\cdot & \\cdot & \\cdot & \\cdot \\\\\n",
    " 1 & \\cdot & \\cdot & 1 & 1 & 1 & \\cdot & \\cdot & \\cdot & \\cdot & \\cdot & \\cdot \\\\\n",
    " \\cdot & 1 & \\cdot & \\cdot & 1 & 1 & \\cdot & 1 & \\cdot & \\cdot & \\cdot & \\cdot \\\\\n",
    " \\cdot & \\cdot & \\cdot & 1 & \\cdot & \\cdot & 3 & \\cdot & \\cdot & \\cdot & \\cdot & \\cdot \\\\\n",
    " \\cdot & \\cdot & \\cdot & \\cdot & \\cdot & 1 & \\cdot & 1 & 1 & \\cdot & 1 & \\cdot \\\\\n",
    " \\cdot & \\cdot & \\cdot & \\cdot & \\cdot & \\cdot & \\cdot & 1 & 2 & \\cdot & \\cdot & 1 \\\\\n",
    " \\cdot & \\cdot & \\cdot & \\cdot & \\cdot & \\cdot & \\cdot & \\cdot & \\cdot & 3 & 1 & \\cdot \\\\\n",
    " \\cdot & \\cdot & \\cdot & \\cdot & \\cdot & \\cdot & \\cdot & 1 & \\cdot & 1 & 1 & 1 \\\\\n",
    " \\cdot & \\cdot & \\cdot & \\cdot & \\cdot & \\cdot & \\cdot & \\cdot & 1 & \\cdot & 1 & 2 \n",
    "\\end{bmatrix}  \n",
    "$$\n",
    "\n",
    "<!-- $$\n",
    "\\frac{1}{4}\n",
    " \\begin{bmatrix}\n",
    " 2 & 1 & 0 & 0 & 1 & 0 & 0 & 0 & 0 & 0 & 0 & 0 \\\\\n",
    " 1 & 1 & 1 & 0 & 0 & 1 & 0 & 0 & 0 & 0 & 0 & 0 \\\\\n",
    " 0 & 1 & 3 & 0 & 0 & 0 & 0 & 0 & 0 & 0 & 0 & 0 \\\\\n",
    " 0 & 0 & 0 & 2 & 1 & 0 & 1 & 0 & 0 & 0 & 0 & 0 \\\\\n",
    " 1 & 0 & 0 & 1 & 1 & 1 & 0 & 0 & 0 & 0 & 0 & 0 \\\\\n",
    " 0 & 1 & 0 & 0 & 1 & 1 & 0 & 1 & 0 & 0 & 0 & 0 \\\\\n",
    " 0 & 0 & 0 & 1 & 0 & 0 & 3 & 0 & 0 & 0 & 0 & 0 \\\\\n",
    " 0 & 0 & 0 & 0 & 0 & 1 & 0 & 1 & 1 & 0 & 1 & 0 \\\\\n",
    " 0 & 0 & 0 & 0 & 0 & 0 & 0 & 1 & 2 & 0 & 0 & 1 \\\\\n",
    " 0 & 0 & 0 & 0 & 0 & 0 & 0 & 0 & 0 & 3 & 1 & 0 \\\\\n",
    " 0 & 0 & 0 & 0 & 0 & 0 & 0 & 1 & 0 & 1 & 1 & 1 \\\\\n",
    " 0 & 0 & 0 & 0 & 0 & 0 & 0 & 0 & 1 & 0 & 1 & 2 \n",
    "\\end{bmatrix}  \n",
    "$$ -->"
   ]
  },
  {
   "cell_type": "markdown",
   "id": "8bf44dcd-31a3-4cd4-91f1-dda810d598bf",
   "metadata": {},
   "source": [
    "## 2. Suponha que o robô inicia a sua caminhada no quadrado indicado na figura (quadrado (2, 1)). Qual a probabilidade do robô se encontrar no quadrado (1,3) vinte minutos após o início?\n"
   ]
  },
  {
   "cell_type": "markdown",
   "id": "4cbae996-293c-4765-88d2-a4f0b34fd833",
   "metadata": {},
   "source": [
    "O vetor inicial $v^{(0)}$ indicará que o robô tem probabilidade 1 de estar na coordenada (2, 1) (estado 6).\n",
    "\n",
    "$$\n",
    "v^{(0)} = \n",
    "\\begin{bmatrix}\n",
    "0 & 0 & 0 & 0 & 0 & 0 & 1 & 0 & 0 & 0 & 0 & 0 \n",
    "\\end{bmatrix}\n",
    "$$\n",
    "\n",
    "Ao passar um minuto após o início, teremos o vetor de probabilidades:\n",
    "\n",
    "$$\n",
    "v^{(1)} = v^{(0)}P\n",
    "$$\n",
    "\n",
    "Dessa forma, para obter a probabilidade de estar no quadrado (1,3) (estado 10) após 20 minutos, basta pegarmos a probabilidade de índice 10 do vetor, calculado no código abaixo.\n",
    "\n",
    "$$\n",
    "v^{(20)} = v^{(0)}P^{20} = \n",
    "\\begin{bmatrix}\n",
    "0.10341275 \\\\0.08585108 \\\\0.07560636 \\\\0.17109472 \\\\0.1215212 \\\\0.08395218 \\\\0.20023806 \\\\0.04680055 \\\\0.03327895 \\\\0.02153419 \\\\0.02936998 \\\\0.02733998\n",
    "\\end{bmatrix}^{T}\n",
    "$$\n",
    "\n",
    "Portanto a probabilidade é $v^{(20)}_{10} = 0.02936998$"
   ]
  },
  {
   "cell_type": "code",
   "execution_count": 21,
   "id": "5584212d-7b4e-4b0d-9fbc-e720bef27028",
   "metadata": {},
   "outputs": [
    {
     "name": "stdout",
     "output_type": "stream",
     "text": [
      "v_1 = [0.   0.   0.   0.25 0.   0.   0.75 0.   0.   0.   0.   0.  ]\n",
      "\n",
      "\n",
      "v_20 = [0.10341275 0.08585108 0.07560636 0.17109472 0.1215212  0.08395218\n",
      " 0.20023806 0.04680055 0.03327895 0.02153419 0.02936998 0.02733998]\n"
     ]
    }
   ],
   "source": [
    "P = np.array([\n",
    "    [2, 1, 0, 0, 1, 0, 0, 0, 0, 0, 0, 0],\n",
    "    [1, 1, 1, 0, 0, 1, 0, 0, 0, 0, 0, 0],\n",
    "    [0, 1, 3, 0, 0, 0, 0, 0, 0, 0, 0, 0],\n",
    "    [0, 0, 0, 2, 1, 0, 1, 0, 0, 0, 0, 0],\n",
    "    [1, 0, 0, 1, 1, 1, 0, 0, 0, 0, 0, 0],\n",
    "    [0, 1, 0, 0, 1, 1, 0, 1, 0, 0, 0, 0],\n",
    "    [0, 0, 0, 1, 0, 0, 3, 0, 0, 0, 0, 0],\n",
    "    [0, 0, 0, 0, 0, 1, 0, 1, 1, 0, 1, 0],\n",
    "    [0, 0, 0, 0, 0, 0, 0, 1, 2, 0, 0, 1],\n",
    "    [0, 0, 0, 0, 0, 0, 0, 0, 0, 3, 1, 0],\n",
    "    [0, 0, 0, 0, 0, 0, 0, 1, 0, 1, 1, 1],\n",
    "    [0, 0, 0, 0, 0, 0, 0, 0, 1, 0, 1, 2]\n",
    "]) / 4\n",
    "\n",
    "v_0 = np.array([0, 0, 0, 0, 0, 0, 1, 0, 0, 0, 0, 0])\n",
    "\n",
    "print(\"v_1 =\", v_0 @ P)\n",
    "print(\"\\n\\nv_20 =\", v_0 @ np.linalg.matrix_power(P, 20))"
   ]
  },
  {
   "cell_type": "markdown",
   "id": "3bff10a3-c43b-4851-b8c6-b4bda552068e",
   "metadata": {},
   "source": [
    "## 3. O robô está caminhando há muito tempo t → ∞. Onde você apostaria que o robô se encontra?"
   ]
  },
  {
   "cell_type": "markdown",
   "id": "cf79af9c-2aff-4255-86cb-c67c8dcc713d",
   "metadata": {},
   "source": [
    "Para isso, precisamos achar a distribuição limite da cadeia de markov. Pode ser que essa distribuição não exista, então seria difícil apostar em algum estado. Por outro lado, caso a distribuição limite exista, podemos apostar no estado com maior probabilidade de se estar.\n",
    "\n",
    "Sabemos que, se a distribuição limite existe, então ela é igual a estacionária. Se a cadeia for aperiódica e irredutível, ela terá distribuição limite. Se a cadeia for irredutivel, basta que tenha um self-loop para ser aperiódica.\n",
    "\n",
    "Como todos os estados possuem setas saindo e entrando, não há sumidouros, logo a cadeia é irredutível. Há vários self-loops, logo a cadeia é aperiódica. Portanto, a distribuição limite existe e é igual à distribuição estacionária. \n",
    "\n",
    "Para resolver o problema, basta, então, encontrar a distribuição estacionária $\\vec{\\pi} = [\\pi_0, ..., \\pi_{11}]$:\n",
    "\n",
    "$$\\vec{\\pi} = \\vec{\\pi} P $$\n",
    "\n",
    "Ou seja, resolver o sistema linear:\n",
    "\n",
    "$$ \\vec{\\pi}(P - I) = 0$$\n",
    "\n",
    "Posso multiplicar ambos os lados por 4, para que a matriz do sistema fique com números inteiros:\n",
    "\n",
    "$$ \\vec{\\pi}(4P - 4I) = 0$$\n",
    "\n",
    "Então terei o sistema:\n",
    "\n",
    "$$\n",
    "\\vec{\\pi}\\left(\n",
    " \\begin{bmatrix}\n",
    " 2     & 1     & \\cdot & \\cdot & 1     & \\cdot & \\cdot & \\cdot & \\cdot & \\cdot & \\cdot & \\cdot \\\\\n",
    " 1     & 1     & 1     & \\cdot & \\cdot & 1     & \\cdot & \\cdot & \\cdot & \\cdot & \\cdot & \\cdot \\\\\n",
    " \\cdot & 1     & 3     & \\cdot & \\cdot & \\cdot & \\cdot & \\cdot & \\cdot & \\cdot & \\cdot & \\cdot \\\\\n",
    " \\cdot & \\cdot & \\cdot & 2     & 1     & \\cdot & 1     & \\cdot & \\cdot & \\cdot & \\cdot & \\cdot \\\\\n",
    " 1     & \\cdot & \\cdot & 1     & 1     & 1     & \\cdot & \\cdot & \\cdot & \\cdot & \\cdot & \\cdot \\\\\n",
    " \\cdot & 1     & \\cdot & \\cdot & 1     & 1     & \\cdot & 1     & \\cdot & \\cdot & \\cdot & \\cdot \\\\\n",
    " \\cdot & \\cdot & \\cdot & 1     & \\cdot & \\cdot & 3     & \\cdot & \\cdot & \\cdot & \\cdot & \\cdot \\\\\n",
    " \\cdot & \\cdot & \\cdot & \\cdot & \\cdot & 1     & \\cdot & 1     & 1     & \\cdot & 1     & \\cdot \\\\\n",
    " \\cdot & \\cdot & \\cdot & \\cdot & \\cdot & \\cdot & \\cdot & 1     & 2     & \\cdot & \\cdot & 1 \\\\\n",
    " \\cdot & \\cdot & \\cdot & \\cdot & \\cdot & \\cdot & \\cdot & \\cdot & \\cdot & 3     & 1     & \\cdot \\\\\n",
    " \\cdot & \\cdot & \\cdot & \\cdot & \\cdot & \\cdot & \\cdot & 1     & \\cdot & 1     & 1     & 1 \\\\\n",
    " \\cdot & \\cdot & \\cdot & \\cdot & \\cdot & \\cdot & \\cdot & \\cdot & 1     & \\cdot & 1     & 2 \n",
    "\\end{bmatrix} - \n",
    " \\begin{bmatrix}\n",
    " 4     & \\cdot & \\cdot & \\cdot & \\cdot & \\cdot & \\cdot & \\cdot & \\cdot & \\cdot & \\cdot & \\cdot \\\\\n",
    " \\cdot & 4     & \\cdot & \\cdot & \\cdot & \\cdot & \\cdot & \\cdot & \\cdot & \\cdot & \\cdot & \\cdot \\\\\n",
    " \\cdot & \\cdot & 4     & \\cdot & \\cdot & \\cdot & \\cdot & \\cdot & \\cdot & \\cdot & \\cdot & \\cdot \\\\\n",
    " \\cdot & \\cdot & \\cdot & 4     & \\cdot & \\cdot & \\cdot & \\cdot & \\cdot & \\cdot & \\cdot & \\cdot \\\\\n",
    " \\cdot & \\cdot & \\cdot & \\cdot & 4     & \\cdot & \\cdot & \\cdot & \\cdot & \\cdot & \\cdot & \\cdot \\\\\n",
    " \\cdot & \\cdot & \\cdot & \\cdot & \\cdot & 4     & \\cdot & \\cdot & \\cdot & \\cdot & \\cdot & \\cdot \\\\\n",
    " \\cdot & \\cdot & \\cdot & \\cdot & \\cdot & \\cdot & 4     & \\cdot & \\cdot & \\cdot & \\cdot & \\cdot \\\\\n",
    " \\cdot & \\cdot & \\cdot & \\cdot & \\cdot & \\cdot & \\cdot & 4     & \\cdot & \\cdot & \\cdot & \\cdot \\\\\n",
    " \\cdot & \\cdot & \\cdot & \\cdot & \\cdot & \\cdot & \\cdot & \\cdot & 4     & \\cdot & \\cdot & \\cdot \\\\\n",
    " \\cdot & \\cdot & \\cdot & \\cdot & \\cdot & \\cdot & \\cdot & \\cdot & \\cdot & 4     & \\cdot & \\cdot \\\\\n",
    " \\cdot & \\cdot & \\cdot & \\cdot & \\cdot & \\cdot & \\cdot & \\cdot & \\cdot & \\cdot & 4     & \\cdot \\\\\n",
    " \\cdot & \\cdot & \\cdot & \\cdot & \\cdot & \\cdot & \\cdot & \\cdot & \\cdot & \\cdot & \\cdot & 4     \n",
    "\\end{bmatrix}\\right)\n",
    "= \\begin{bmatrix}\n",
    "0 \\\\\n",
    "0 \\\\\n",
    "0 \\\\\n",
    "0 \\\\\n",
    "0 \\\\\n",
    "0 \\\\\n",
    "0 \\\\\n",
    "0 \\\\\n",
    "0 \\\\\n",
    "0 \\\\\n",
    "0 \\\\\n",
    "0 \n",
    "\\end{bmatrix}^{T}\n",
    "$$\n",
    "\n",
    "$$\n",
    "\\vec{\\pi}\n",
    " \\begin{bmatrix}\n",
    " -2    & 1     & \\cdot & \\cdot & 1     & \\cdot & \\cdot & \\cdot & \\cdot & \\cdot & \\cdot & \\cdot \\\\\n",
    " 1     & -3    & 1     & \\cdot & \\cdot & 1     & \\cdot & \\cdot & \\cdot & \\cdot & \\cdot & \\cdot \\\\\n",
    " \\cdot & 1     & -1    & \\cdot & \\cdot & \\cdot & \\cdot & \\cdot & \\cdot & \\cdot & \\cdot & \\cdot \\\\\n",
    " \\cdot & \\cdot & \\cdot & -2    & 1     & \\cdot & 1     & \\cdot & \\cdot & \\cdot & \\cdot & \\cdot \\\\\n",
    " 1     & \\cdot & \\cdot & 1     & -3    & 1     & \\cdot & \\cdot & \\cdot & \\cdot & \\cdot & \\cdot \\\\\n",
    " \\cdot & 1     & \\cdot & \\cdot & 1     & -3    & \\cdot & 1     & \\cdot & \\cdot & \\cdot & \\cdot \\\\\n",
    " \\cdot & \\cdot & \\cdot & 1     & \\cdot & \\cdot & -1    & \\cdot & \\cdot & \\cdot & \\cdot & \\cdot \\\\\n",
    " \\cdot & \\cdot & \\cdot & \\cdot & \\cdot & 1     & \\cdot & -3    & 1     & \\cdot & 1     & \\cdot \\\\\n",
    " \\cdot & \\cdot & \\cdot & \\cdot & \\cdot & \\cdot & \\cdot & 1     & -2    & \\cdot & \\cdot & 1     \\\\\n",
    " \\cdot & \\cdot & \\cdot & \\cdot & \\cdot & \\cdot & \\cdot & \\cdot & \\cdot & -1    & 1     & \\cdot \\\\\n",
    " \\cdot & \\cdot & \\cdot & \\cdot & \\cdot & \\cdot & \\cdot & 1     & \\cdot & 1     & -3    & 1     \\\\\n",
    " \\cdot & \\cdot & \\cdot & \\cdot & \\cdot & \\cdot & \\cdot & \\cdot & 1     & \\cdot & 1     & -2    \n",
    " \\end{bmatrix}  \n",
    "= \\begin{bmatrix}\n",
    "0 \\\\\n",
    "0 \\\\\n",
    "0 \\\\\n",
    "0 \\\\\n",
    "0 \\\\\n",
    "0 \\\\\n",
    "0 \\\\\n",
    "0 \\\\\n",
    "0 \\\\\n",
    "0 \\\\\n",
    "0 \\\\\n",
    "0 \n",
    "\\end{bmatrix}^{T}\n",
    "$$\n",
    "\n",
    "Mas sabemos que esse sistema irá ter infinitas soluções, portanto, temos que adicionar a restrição de que $\\sum_i \\pi_i = 1$. Farei isso, adicionando uma nova coluna, cheia de uns na matriz $(P - I)$ e uma coluna com 1 ao vetor de zeros no lado direito da equação.\n",
    "\n",
    "Então usarei o numpy para resolver o sistema:\n",
    "\n",
    "$$\n",
    "\\vec{\\pi}\n",
    " \\begin{bmatrix}\n",
    " -2    & 1     & \\cdot & \\cdot & 1     & \\cdot & \\cdot & \\cdot & \\cdot & \\cdot & \\cdot & \\cdot & 1 \\\\\n",
    " 1     & -3    & 1     & \\cdot & \\cdot & 1     & \\cdot & \\cdot & \\cdot & \\cdot & \\cdot & \\cdot & 1 \\\\\n",
    " \\cdot & 1     & -1    & \\cdot & \\cdot & \\cdot & \\cdot & \\cdot & \\cdot & \\cdot & \\cdot & \\cdot & 1 \\\\\n",
    " \\cdot & \\cdot & \\cdot & -2    & 1     & \\cdot & 1     & \\cdot & \\cdot & \\cdot & \\cdot & \\cdot & 1 \\\\\n",
    " 1     & \\cdot & \\cdot & 1     & -3    & 1     & \\cdot & \\cdot & \\cdot & \\cdot & \\cdot & \\cdot & 1 \\\\\n",
    " \\cdot & 1     & \\cdot & \\cdot & 1     & -3    & \\cdot & 1     & \\cdot & \\cdot & \\cdot & \\cdot & 1 \\\\\n",
    " \\cdot & \\cdot & \\cdot & 1     & \\cdot & \\cdot & -1    & \\cdot & \\cdot & \\cdot & \\cdot & \\cdot & 1 \\\\\n",
    " \\cdot & \\cdot & \\cdot & \\cdot & \\cdot & 1     & \\cdot & -3    & 1     & \\cdot & 1     & \\cdot & 1 \\\\\n",
    " \\cdot & \\cdot & \\cdot & \\cdot & \\cdot & \\cdot & \\cdot & 1     & -2    & \\cdot & \\cdot & 1     & 1 \\\\\n",
    " \\cdot & \\cdot & \\cdot & \\cdot & \\cdot & \\cdot & \\cdot & \\cdot & \\cdot & -1    & 1     & \\cdot & 1 \\\\\n",
    " \\cdot & \\cdot & \\cdot & \\cdot & \\cdot & \\cdot & \\cdot & 1     & \\cdot & 1     & -3    & 1     & 1 \\\\\n",
    " \\cdot & \\cdot & \\cdot & \\cdot & \\cdot & \\cdot & \\cdot & \\cdot & 1     & \\cdot & 1     & -2    & 1\n",
    "\\end{bmatrix}  \n",
    "= \\begin{bmatrix}\n",
    "0 \\\\\n",
    "0 \\\\\n",
    "0 \\\\\n",
    "0 \\\\\n",
    "0 \\\\\n",
    "0 \\\\\n",
    "0 \\\\\n",
    "0 \\\\\n",
    "0 \\\\\n",
    "0 \\\\\n",
    "0 \\\\\n",
    "0 \\\\\n",
    "1\n",
    "\\end{bmatrix}^{T}\n",
    "$$"
   ]
  },
  {
   "cell_type": "code",
   "execution_count": 22,
   "id": "a68b6985-ce75-45e5-88f9-a10faf755460",
   "metadata": {},
   "outputs": [
    {
     "data": {
      "text/plain": [
       "array([[0.08333333],\n",
       "       [0.08333333],\n",
       "       [0.08333333],\n",
       "       [0.08333333],\n",
       "       [0.08333333],\n",
       "       [0.08333333],\n",
       "       [0.08333333],\n",
       "       [0.08333333],\n",
       "       [0.08333333],\n",
       "       [0.08333333],\n",
       "       [0.08333333],\n",
       "       [0.08333333]])"
      ]
     },
     "execution_count": 22,
     "metadata": {},
     "output_type": "execute_result"
    }
   ],
   "source": [
    "A = np.concatenate([(4*P - 4*np.eye(12)), np.ones((12,1))], axis=1)\n",
    "b = np.zeros((13,1))\n",
    "b[-1] = 1.\n",
    "\n",
    "pi = np.linalg.lstsq(np.transpose(A), b, rcond=None)[0]\n",
    "pi"
   ]
  },
  {
   "cell_type": "markdown",
   "id": "0942dbc0-8d43-4341-b08b-1fa2258c31b7",
   "metadata": {},
   "source": [
    "A solução é que quando o tempo tende ao infinito, todos os **estados têm probabilidade igual** do robô se encontrar nele. Logo, apostaria em qualquer um."
   ]
  },
  {
   "cell_type": "markdown",
   "id": "3710a7ec-19cf-4a05-803f-a86658f10ccd",
   "metadata": {},
   "source": [
    "## 4. Quantos minutos em média leva para o robô retornar ao ponto de partida? É preciso pensar um pouquinho. Proponha uma possível solução a ser discutida na próxima aula. (Para a próxima aula, não precisa resolver esse item, mas será essencial mostrar que você pensou numa solução para apresentar)"
   ]
  },
  {
   "cell_type": "markdown",
   "id": "23d05073-4077-41e4-9ba3-1fd26217f721",
   "metadata": {},
   "source": [
    "Podemos pensar no problema como uma rede de filas. Imaginemos que o robô estar no estado inicial é equivalente a estar em uma fila esperando para ser atendido. Ao sair do estado inicial, ele estará sendo servido. Ao voltar para o estado inicial, ele terminou de ser servido e entra na fila novamente (rede de fila fechada).\n",
    "\n",
    "Nesse caso, penso que podemos ter duas interpretações:\n",
    "\n",
    "1. Ao voltar para o estado inicial, consideramos que ele sairá dele logo no próximo minuto. Assim, temos que alterar a cadeia, removendo o self-loop e colocando apenas uma transição do estado 6 para o 3 com probabilidade 1. Dessa forma, estamos apenas interessados no tempo de serviço para o robô, ou seja, quanto tempo em média ele passa fora do estado inicial.\n",
    "2. Ao voltar para o estado inicial, consideramos que ele pode se manter ali com probabilidade 3/4, como especificado originalmente pelo problema. Assim, ao continuar no estado inicial, será considerado que demorou 0 minutos para ele retornar, o que afetará a média total.\n",
    "\n",
    "No primeiro caso, podemos considerar que temos um sistema fechado em batch, em que não há tempo de espera na fila até o robô ser servido de novo (zero think time). Logo, pela lei de Little, temos:\n",
    "\n",
    "$$N = X \\cdot \\mathbb{E}[T]$$\n",
    "\n",
    "Onde N é o número de jobs, X é o throughput do sistema e $\\mathbb{E}[T]$ é o tempo médio no sistema. \n",
    "\n",
    "Nesse caso, $N = 1$ pois só temos um robô. O throughput é a taxa na qual o robô volta para o estado inicial, ou seja, é a probabilidade do robô estar no estado inicial $X = 0.083...$. Então, o tempo médio de retorno é:\n",
    "\n",
    "$$\\mathbb{E}[T] = \\frac{N}{X} = \\frac{1}{0.083...} = 12$$\n",
    "\n",
    "Já no segundo caso, há um tempo em que o robô se mantém no estado inicial. Então o tempo médio no sistema é\n",
    "$$\\mathbb{E}[T] = \\mathbb{E}[R] + \\mathbb{E}[Z]$$\n",
    "\n",
    "Onde $\\mathbb{E}[R]$ é o tempo gasto no estado inicial (think time) e $\\mathbb{E}[Z]$ é o tempo de resposta do sistema. Logo, pela lei de Little:\n",
    "\n",
    "$$N = X \\cdot \\mathbb{E}[T] = X \\cdot (\\mathbb{E}[R] + \\mathbb{E}[Z]) = X \\cdot \\mathbb{E}[R] + X \\cdot \\mathbb{E}[Z]$$\n",
    "$$ \\mathbb{E}[Z] = \\frac{N - X \\cdot \\mathbb{E}[R]}{X}$$\n",
    "\n",
    "O tempo gasto no estado inicial é o inverso da probabilidade do robô se manter lá $\\mathbb{E}[R] = \\frac{1}{3/4} = \\frac{4}{3}$, logo:\n",
    "\n",
    "$$ \\mathbb{E}[Z] = \\frac{1 - 0.083... \\cdot \\frac{4}{3}}{0.083...} = 10.6...$$"
   ]
  }
 ],
 "metadata": {
  "kernelspec": {
   "display_name": "Python 3 (ipykernel)",
   "language": "python",
   "name": "python3"
  },
  "language_info": {
   "codemirror_mode": {
    "name": "ipython",
    "version": 3
   },
   "file_extension": ".py",
   "mimetype": "text/x-python",
   "name": "python",
   "nbconvert_exporter": "python",
   "pygments_lexer": "ipython3",
   "version": "3.10.6"
  }
 },
 "nbformat": 4,
 "nbformat_minor": 5
}
